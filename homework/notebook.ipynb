{
 "cells": [
  {
   "cell_type": "code",
   "execution_count": null,
   "metadata": {},
   "outputs": [],
   "source": [
    "#Escriba el codigo que ejecute la accion solicitada.\n",
    "# pylint: disable=import-outside-toplevel\n",
    "\n",
    "    #En esta tarea se le pide que limpie los datos de una campaña de\n",
    "    #marketing realizada por un banco, la cual tiene como fin la\n",
    "    #recolección de datos de clientes para ofrecerls un préstamo.\n",
    "\n",
    "    #La información recolectada se encuentra en la carpeta\n",
    "    #files/input/ en varios archivos csv.zip comprimidos para ahorrar\n",
    "    #espacio en disco.\n",
    "\n",
    "    #Usted debe procesar directamente los archivos comprimidos (sin\n",
    "    #descomprimirlos). Se desea partir la data en tres archivos csv\n",
    "    #(sin comprimir): client.csv, campaign.csv y economics.csv.\n",
    "    #Cada archivo debe tener las columnas indicadas.\n",
    "\n",
    "    #Los tres archivos generados se almacenarán en la carpeta files/output/.\n",
    "\n",
    "    #client.csv:\n",
    "    #- client_id\n",
    "    #- age\n",
    "    #- job: se debe cambiar el \".\" por \"\" y el \"-\" por \"_\"\n",
    "    #- marital\n",
    "    #- education: se debe cambiar \".\" por \"_\" y \"unknown\" por pd.NA\n",
    "    #- credit_default: convertir a \"yes\" a 1 y cualquier otro valor a 0\n",
    "    #- mortage: convertir a \"yes\" a 1 y cualquier otro valor a 0\n",
    "\n",
    "    #campaign.csv:\n",
    "    #- client_id\n",
    "    #- number_contacts\n",
    "    #- contact_duration\n",
    "    #- previous_campaing_contacts\n",
    "    #- previous_outcome: cmabiar \"success\" por 1, y cualquier otro valor a 0\n",
    "    #- campaign_outcome: cambiar \"yes\" por 1 y cualquier otro valor a 0\n",
    "    #- last_contact_day: crear un valor con el formato \"YYYY-MM-DD\",\n",
    "        #combinando los campos \"day\" y \"month\" con el año 2022.\n",
    "\n",
    "    #economics.csv:\n",
    "    #- client_id\n",
    "    #- const_price_idx\n",
    "    #- eurobor_three_months\n",
    "\n"
   ]
  }
 ],
 "metadata": {
  "kernelspec": {
   "display_name": ".venv",
   "language": "python",
   "name": "python3"
  },
  "language_info": {
   "codemirror_mode": {
    "name": "ipython",
    "version": 3
   },
   "file_extension": ".py",
   "mimetype": "text/x-python",
   "name": "python",
   "nbconvert_exporter": "python",
   "pygments_lexer": "ipython3",
   "version": "3.12.3"
  }
 },
 "nbformat": 4,
 "nbformat_minor": 2
}
